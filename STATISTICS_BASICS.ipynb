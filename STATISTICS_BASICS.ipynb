{
  "nbformat": 4,
  "nbformat_minor": 0,
  "metadata": {
    "colab": {
      "provenance": []
    },
    "kernelspec": {
      "name": "python3",
      "display_name": "Python 3"
    },
    "language_info": {
      "name": "python"
    }
  },
  "cells": [
    {
      "cell_type": "markdown",
      "source": [
        "## STATISTICS BASICS\n",
        "\n",
        "1. What is statistics, and why is it important?\n",
        "\n",
        "A= Statistics is the science of collecting, analyzing, interpreting, presenting, and organizing data. It's important because it helps make informed decisions, identify patterns, test hypotheses, and draw conclusions from data in various fields like business, medicine, social sciences, and more.\n",
        "\n",
        "2. What are the two main types of statistics?\n",
        "\n",
        "A= The two main types are descriptive statistics (summarizing data) and inferential statistics (drawing conclusions about populations from samples).\n",
        "\n",
        "3. What are descriptive statistics?\n",
        "\n",
        "A= Descriptive statistics summarize and describe the main features of a dataset, including measures of central tendency (mean, median, mode) and measures of variability (range, variance, standard deviation).\n",
        "\n",
        "4. What is inferential statistics?\n",
        "\n",
        "A= Inferential statistics uses sample data to make generalizations or predictions about a larger population, including techniques like hypothesis testing and regression analysis.\n",
        "\n",
        "5. What is sampling in statistics?\n",
        "\n",
        "A= Sampling is the process of selecting a subset of individuals from a population to estimate characteristics of the whole population.\n",
        "\n",
        "6. What are the different types of sampling methods?\n",
        "\n",
        "A= Common sampling methods include:\n",
        "\n",
        "   a. Random sampling\n",
        "\n",
        "   b. Stratified sampling\n",
        "\n",
        "   c. Systematic sampling\n",
        "\n",
        "   d. Cluster sampling\n",
        "\n",
        "   e. Convenience sampling\n",
        "\n",
        "7.  What is the difference between random and non-random sampling?\n",
        "\n",
        "A= Random sampling gives each member of the population an equal chance of being selected (e.g., simple random sampling), while non-random sampling doesn't use random selection (e.g., convenience sampling).\n",
        "\n",
        "8. Define and give examples of qualitative and quantitative data.\n",
        "\n",
        "A= Qualitative: Non-numerical data (e.g., gender, color)\n",
        "\n",
        "   Quantitative: Numerical data (e.g., height, temperature)\n",
        "\n",
        "9. What are the different types of data in statistics?\n",
        "\n",
        "A= 1.Nominal (categories without order)\n",
        "\n",
        "   2.Ordinal (ordered categories)\n",
        "\n",
        "   3.Interval (ordered with equal intervals)\n",
        "\n",
        "   4.Ratio (interval with true zero)  \n",
        "\n",
        "10. Explain nominal, ordinal, interval, and ratio levels of measurement.\n",
        "\n",
        "A= 1.Nominal: Categories without order (e.g., colors)\n",
        "\n",
        "   2.Ordinal: Ordered categories (e.g., satisfaction levels)\n",
        "\n",
        "   3.Interval: Equal intervals, no true zero (e.g., temperature in °C)\n",
        "\n",
        "   4.Ratio: Equal intervals with true zero (e.g., height, weight)\n",
        "\n",
        "11. What is the measure of central tendency?\n",
        "\n",
        "A= Measures that identify the center or typical value of a dataset (mean, median, mode).\n",
        "\n",
        "12. Define mean, median, and mode.\n",
        "\n",
        "A= Mean: Average of all values\n",
        "\n",
        "   Median: Middle value when sorted\n",
        "\n",
        "   Mode: Most frequent value\n",
        "\n",
        "13. What is the significance of the measure of central tendency?\n",
        "\n",
        "A= It provides a single value that represents the entire dataset and helps in comparing different datasets.\n",
        "\n",
        "14. What is variance, and how is it calculated?\n",
        "\n",
        "A= Variance measures how far each number in a dataset is from the mean.\n",
        "Formula: σ² = Σ(xi - μ)² / N\n",
        "\n",
        "15. What is standard deviation, and why is it important?\n",
        "\n",
        "A= Standard deviation is the square root of variance, showing how spread out numbers are. It's important because it's in the same units as the original data.\n",
        "\n",
        "16. Define and explain the term range in statistics.\n",
        "\n",
        "A= Range is the difference between the highest and lowest values in a dataset, showing the spread of the data.\n",
        "\n",
        "17. What is the difference between variance and standard deviation?\n",
        "\n",
        "A= Variance is the average squared deviation from the mean, while standard deviation is the square root of variance, making it more interpretable.\n",
        "\n",
        "18. What is skewness in a dataset?\n",
        "\n",
        "A= Skewness measures the asymmetry of the probability distribution of a real-valued random variable.\n",
        "\n",
        "19. What does it mean if a dataset is positively or negatively skewed?\n",
        "\n",
        "A= Positively skewed: Right tail is longer\n",
        "\n",
        "   Negatively skewed: Left tail is longer\n",
        "\n",
        "20. Define and explain kurtosis.\n",
        "\n",
        "A= Kurtosis measures the \"tailedness\" of the probability distribution (peakedness and tail thickness).\n",
        "\n",
        "21. What is the purpose of covariance?\n",
        "\n",
        "A= Covariance measures how two variables change together, indicating the direction of their linear relationship.\n",
        "\n",
        "22.What does correlation measure in statistics?\n",
        "\n",
        "A= Correlation measures the strength and direction of the linear relationship between two variables (-1 to 1).\n",
        "\n",
        "23. What is the difference between covariance and correlation?\n",
        "\n",
        "A= Covariance shows direction but not strength, while correlation shows both direction and strength (standardized).\n",
        "\n",
        "24. What are some real-world applications of statistics?\n",
        "\n",
        "A= Market research, medical studies, quality control, weather forecasting, sports analytics, etc.\n",
        "\n",
        "## PRACTICAL\n",
        "\n",
        "1. How do you calculate the mean, median, and mode of a dataset?\n",
        "\n",
        "A= Mean: Sum all values ÷ count\n",
        "\n",
        "   Median: Middle value when sorted\n",
        "\n",
        "   Mode: Most frequent value\n",
        "\n",
        "2. Write a Python program to compute the variance and standard deviation of a dataset.\n",
        "\n",
        "A=\n",
        "\n",
        "\n",
        "   "
      ],
      "metadata": {
        "id": "l7lnvh_jcoqD"
      }
    },
    {
      "cell_type": "code",
      "execution_count": 1,
      "metadata": {
        "colab": {
          "base_uri": "https://localhost:8080/"
        },
        "id": "NO2OYKT-a7bO",
        "outputId": "08e46f09-aafd-45f6-bbb0-54a0c760f8e6"
      },
      "outputs": [
        {
          "output_type": "stream",
          "name": "stdout",
          "text": [
            "Variance: 2.0 Std Dev: 1.4142135623730951\n"
          ]
        }
      ],
      "source": [
        "import numpy as np\n",
        "\n",
        "data = [1, 2, 3, 4, 5]\n",
        "variance = np.var(data)\n",
        "std_dev = np.std(data)\n",
        "print(\"Variance:\", variance, \"Std Dev:\", std_dev)"
      ]
    },
    {
      "cell_type": "markdown",
      "source": [
        "3. Create a dataset and classify it into nominal, ordinal, interval, and ratio types.\n",
        "\n",
        "A= Nominal: Colors [\"red\", \"blue\", \"green\"]\n",
        "\n",
        "   Ordinal: Education level [\"high school\", \"bachelor\", \"master\"]\n",
        "\n",
        "   Interval: Temperature in °C [20, 25, 30]\n",
        "\n",
        "   Ratio: Height in cm [150, 170, 180]\n",
        "\n",
        "4. Implement sampling techniques like random sampling and stratified sampling.\n",
        "   "
      ],
      "metadata": {
        "id": "fLl0qkWQw-Po"
      }
    },
    {
      "cell_type": "code",
      "source": [
        "import random\n",
        "from sklearn.model_selection import train_test_split\n",
        "\n",
        "# Random sampling\n",
        "data = list(range(100))\n",
        "random_sample = random.sample(data, 10)\n",
        "\n",
        "# Stratified sampling (using sklearn)\n",
        "groups = [0]*70 + [1]*30  # 70% group 0, 30% group 1\n",
        "_, stratified_sample = train_test_split(data, test_size=0.1, stratify=groups)"
      ],
      "metadata": {
        "id": "cKqZQAhnxkQB"
      },
      "execution_count": 7,
      "outputs": []
    },
    {
      "cell_type": "markdown",
      "source": [
        "5. Write a Python function to calculate the range of a dataset."
      ],
      "metadata": {
        "id": "muIVr3nXxsiA"
      }
    },
    {
      "cell_type": "code",
      "source": [
        "def data_range(data):\n",
        "    return max(data) - min(data)"
      ],
      "metadata": {
        "id": "Rn0GfEDex2YN"
      },
      "execution_count": 8,
      "outputs": []
    },
    {
      "cell_type": "markdown",
      "source": [
        "6. Create a dataset and plot its histogram to visualize skewness."
      ],
      "metadata": {
        "id": "JiD4J0eXx8qU"
      }
    },
    {
      "cell_type": "code",
      "source": [
        "import matplotlib.pyplot as plt\n",
        "import numpy as np\n",
        "\n",
        "data = np.random.gamma(3, 2, 1000)  # Positively skewed data\n",
        "plt.hist(data, bins=30)\n",
        "plt.show()"
      ],
      "metadata": {
        "colab": {
          "base_uri": "https://localhost:8080/",
          "height": 430
        },
        "id": "pLtFxVqxRtAW",
        "outputId": "434a3fc0-72dd-4318-9b20-0337fa7460db"
      },
      "execution_count": 1,
      "outputs": [
        {
          "output_type": "display_data",
          "data": {
            "text/plain": [
              "<Figure size 640x480 with 1 Axes>"
            ],
            "image/png": "[encoded data removed]"
          },
          "metadata": {}
        }
      ]
    },
    {
      "cell_type": "markdown",
      "source": [
        "7. Calculate skewness and kurtosis of a dataset using Python libraries."
      ],
      "metadata": {
        "id": "NRD16Hj5R0Dx"
      }
    },
    {
      "cell_type": "code",
      "source": [
        "from scipy.stats import skew, kurtosis\n",
        "\n",
        "data = [1, 2, 3, 4, 5, 5, 5, 6, 7, 8, 9]\n",
        "print(f\"Skewness: {skew(data)}\")\n",
        "print(f\"Kurtosis: {kurtosis(data)}\")"
      ],
      "metadata": {
        "colab": {
          "base_uri": "https://localhost:8080/"
        },
        "id": "4qj4Nxy3R5uG",
        "outputId": "ec4cf7e3-0903-4887-f2d6-a3c29f1300de"
      },
      "execution_count": 2,
      "outputs": [
        {
          "output_type": "stream",
          "name": "stdout",
          "text": [
            "Skewness: 0.0\n",
            "Kurtosis: -0.8366666666666664\n"
          ]
        }
      ]
    },
    {
      "cell_type": "markdown",
      "source": [
        "8. Generate a dataset and demonstrate positive and negative skewness."
      ],
      "metadata": {
        "id": "ES9y1J6YR9z4"
      }
    },
    {
      "cell_type": "code",
      "source": [
        "import numpy as np\n",
        "import matplotlib.pyplot as plt\n",
        "\n",
        "# Positive skew\n",
        "pos_skew = np.random.exponential(scale=2, size=1000)\n",
        "# Negative skew\n",
        "neg_skew = np.max(pos_skew) - pos_skew\n",
        "\n",
        "plt.hist(pos_skew, alpha=0.5, label='Positive Skew')\n",
        "plt.hist(neg_skew, alpha=0.5, label='Negative Skew')\n",
        "plt.legend()\n",
        "plt.show()"
      ],
      "metadata": {
        "colab": {
          "base_uri": "https://localhost:8080/",
          "height": 430
        },
        "id": "o-b5bpZdS2Wa",
        "outputId": "06ab8092-7df2-448b-d8fd-5078f12dab6a"
      },
      "execution_count": 3,
      "outputs": [
        {
          "output_type": "display_data",
          "data": {
            "text/plain": [
              "<Figure size 640x480 with 1 Axes>"
            ],
            "image/png": "[encoded data removed]"
          },
          "metadata": {}
        }
      ]
    },
    {
      "cell_type": "markdown",
      "source": [
        "9. Write a Python script to calculate covariance between two datasets."
      ],
      "metadata": {
        "id": "ahkke11lTAKf"
      }
    },
    {
      "cell_type": "code",
      "source": [
        "import numpy as np\n",
        "\n",
        "x = [1, 2, 3, 4, 5]\n",
        "y = [2, 3, 4, 5, 6]\n",
        "cov_matrix = np.cov(x, y)\n",
        "print(f\"Covariance matrix:\\n{cov_matrix}\")"
      ],
      "metadata": {
        "colab": {
          "base_uri": "https://localhost:8080/"
        },
        "id": "XgCcCe0VTILd",
        "outputId": "9d54ea05-22c1-44d1-e01e-6760317de010"
      },
      "execution_count": 4,
      "outputs": [
        {
          "output_type": "stream",
          "name": "stdout",
          "text": [
            "Covariance matrix:\n",
            "[[2.5 2.5]\n",
            " [2.5 2.5]]\n"
          ]
        }
      ]
    },
    {
      "cell_type": "markdown",
      "source": [
        "10. Write a Python script to calculate the correlation coefficient between two datasets."
      ],
      "metadata": {
        "id": "FfKfpRe4TMi5"
      }
    },
    {
      "cell_type": "code",
      "source": [
        "import numpy as np\n",
        "\n",
        "x = [1, 2, 3, 4, 5]\n",
        "y = [2, 3, 4, 5, 6]\n",
        "corr = np.corrcoef(x, y)[0, 1]\n",
        "print(f\"Correlation coefficient: {corr}\")"
      ],
      "metadata": {
        "colab": {
          "base_uri": "https://localhost:8080/"
        },
        "id": "0-Mdyk3gTVcS",
        "outputId": "77ccf132-b6bd-49be-f63c-4d2afda4b402"
      },
      "execution_count": 5,
      "outputs": [
        {
          "output_type": "stream",
          "name": "stdout",
          "text": [
            "Correlation coefficient: 0.9999999999999999\n"
          ]
        }
      ]
    },
    {
      "cell_type": "markdown",
      "source": [
        "11. Create a scatter plot to visualize the relationship between two variables."
      ],
      "metadata": {
        "id": "b60m5P5KTZcM"
      }
    },
    {
      "cell_type": "code",
      "source": [
        "import matplotlib.pyplot as plt\n",
        "\n",
        "x = [1, 2, 3, 4, 5]\n",
        "y = [2, 3, 4, 5, 6]\n",
        "plt.scatter(x, y)\n",
        "plt.xlabel('X')\n",
        "plt.ylabel('Y')\n",
        "plt.show()"
      ],
      "metadata": {
        "colab": {
          "base_uri": "https://localhost:8080/",
          "height": 449
        },
        "id": "bvYZgli5TiDJ",
        "outputId": "4051c904-4a4f-400e-b619-5e85c2674e3f"
      },
      "execution_count": 6,
      "outputs": [
        {
          "output_type": "display_data",
          "data": {
            "text/plain": [
              "<Figure size 640x480 with 1 Axes>"
            ],
            "image/png": "[encoded data removed]"
          },
          "metadata": {}
        }
      ]
    },
    {
      "cell_type": "markdown",
      "source": [
        "12.  Implement and compare simple random sampling and systematic sampling."
      ],
      "metadata": {
        "id": "nMWNSEBJToHZ"
      }
    },
    {
      "cell_type": "code",
      "source": [
        "import random\n",
        "import numpy as np\n",
        "\n",
        "data = list(range(1000))\n",
        "\n",
        "# Simple random\n",
        "random_sample = random.sample(data, 100)\n",
        "\n",
        "# Systematic\n",
        "k = len(data) // 100\n",
        "start = random.randint(0, k-1)\n",
        "systematic_sample = data[start::k]"
      ],
      "metadata": {
        "id": "taf1FPRKTyHS"
      },
      "execution_count": 8,
      "outputs": []
    },
    {
      "cell_type": "markdown",
      "source": [
        "13. Calculate the mean, median, and mode of grouped data."
      ],
      "metadata": {
        "id": "27ApvV9BT3m2"
      }
    },
    {
      "cell_type": "code",
      "source": [
        "# For grouped data with class intervals and frequencies\n",
        "# Calculate mean: midpoint × frequency / total frequency\n",
        "# Median: Find median class and interpolate\n",
        "# Mode: Find modal class and use formula"
      ],
      "metadata": {
        "id": "WWgCuLfXT_9k"
      },
      "execution_count": 9,
      "outputs": []
    },
    {
      "cell_type": "markdown",
      "source": [
        "14.  Simulate data using Python and calculate its central tendency and dispersion."
      ],
      "metadata": {
        "id": "ePSwDn6RUEts"
      }
    },
    {
      "cell_type": "code",
      "source": [
        "import numpy as np\n",
        "\n",
        "# Simulate normal data\n",
        "data = np.random.normal(50, 10, 1000)\n",
        "\n",
        "# Central tendency\n",
        "mean = np.mean(data)\n",
        "median = np.median(data)\n",
        "mode = np.argmax(np.bincount(np.round(data).astype(int)))\n",
        "\n",
        "# Dispersion\n",
        "std_dev = np.std(data)\n",
        "variance = np.var(data)\n",
        "range_val = np.ptp(data)"
      ],
      "metadata": {
        "id": "BVav3WvNUKYG"
      },
      "execution_count": 11,
      "outputs": []
    },
    {
      "cell_type": "markdown",
      "source": [
        "15. Use NumPy or pandas to summarize a dataset’s descriptive statistics."
      ],
      "metadata": {
        "id": "VIJNnyvgUPrW"
      }
    },
    {
      "cell_type": "code",
      "source": [
        "import pandas as pd\n",
        "import numpy as np\n",
        "\n",
        "data = np.random.normal(0, 1, 100)\n",
        "df = pd.DataFrame(data, columns=['values'])\n",
        "print(df.describe())"
      ],
      "metadata": {
        "colab": {
          "base_uri": "https://localhost:8080/"
        },
        "id": "x6thvDfAUY8L",
        "outputId": "fd3e1aaf-cd17-4463-d579-130e3027e883"
      },
      "execution_count": 12,
      "outputs": [
        {
          "output_type": "stream",
          "name": "stdout",
          "text": [
            "           values\n",
            "count  100.000000\n",
            "mean     0.047816\n",
            "std      1.058074\n",
            "min     -2.608084\n",
            "25%     -0.650961\n",
            "50%     -0.006415\n",
            "75%      0.725153\n",
            "max      2.942967\n"
          ]
        }
      ]
    },
    {
      "cell_type": "markdown",
      "source": [
        "16. Plot a boxplot to understand the spread and identify outliers.\n"
      ],
      "metadata": {
        "id": "V27vEAfhUmAg"
      }
    },
    {
      "cell_type": "code",
      "source": [
        "import seaborn as sns\n",
        "import numpy as np\n",
        "\n",
        "data = np.random.normal(0, 1, 100)\n",
        "sns.boxplot(data=data)\n",
        "plt.show()"
      ],
      "metadata": {
        "colab": {
          "base_uri": "https://localhost:8080/",
          "height": 411
        },
        "id": "urtpSbXiUsNc",
        "outputId": "0bf11b9c-261e-49b8-e8ca-02532427fbca"
      },
      "execution_count": 13,
      "outputs": [
        {
          "output_type": "display_data",
          "data": {
            "text/plain": [
              "<Figure size 640x480 with 1 Axes>"
            ],
            "image/png": "[encoded data removed]"
          },
          "metadata": {}
        }
      ]
    },
    {
      "cell_type": "markdown",
      "source": [
        "17. Calculate the interquartile range (IQR) of a dataset."
      ],
      "metadata": {
        "id": "dAIaBUKIUxzc"
      }
    },
    {
      "cell_type": "code",
      "source": [
        "from scipy.stats import iqr\n",
        "\n",
        "data = [1, 2, 3, 4, 5, 6, 7, 8, 9, 10]\n",
        "print(f\"IQR: {iqr(data)}\")"
      ],
      "metadata": {
        "colab": {
          "base_uri": "https://localhost:8080/"
        },
        "id": "6at9sWOgU4Wg",
        "outputId": "6a934c02-5575-40bd-b0af-df4aa2bc0805"
      },
      "execution_count": 14,
      "outputs": [
        {
          "output_type": "stream",
          "name": "stdout",
          "text": [
            "IQR: 4.5\n"
          ]
        }
      ]
    },
    {
      "cell_type": "markdown",
      "source": [
        "18.  Implement Z-score normalization and explain its significance."
      ],
      "metadata": {
        "id": "AgGFAIzDU_BK"
      }
    },
    {
      "cell_type": "code",
      "source": [
        "from scipy.stats import zscore\n",
        "\n",
        "data = [10, 20, 30, 40, 50]\n",
        "normalized = zscore(data)\n",
        "print(f\"Normalized: {normalized}\")"
      ],
      "metadata": {
        "colab": {
          "base_uri": "https://localhost:8080/"
        },
        "id": "FigFree2VF7Z",
        "outputId": "1cf3ed7c-f3d2-4c6f-d07d-6118fd4f8090"
      },
      "execution_count": 15,
      "outputs": [
        {
          "output_type": "stream",
          "name": "stdout",
          "text": [
            "Normalized: [-1.41421356 -0.70710678  0.          0.70710678  1.41421356]\n"
          ]
        }
      ]
    },
    {
      "cell_type": "markdown",
      "source": [
        "19. Compare two datasets using their standard deviations."
      ],
      "metadata": {
        "id": "YP6S4BPbVKAu"
      }
    },
    {
      "cell_type": "code",
      "source": [
        "import numpy as np\n",
        "\n",
        "data1 = np.random.normal(0, 1, 100)\n",
        "data2 = np.random.normal(0, 2, 100)\n",
        "\n",
        "print(f\"Dataset 1 std: {np.std(data1)}\")\n",
        "print(f\"Dataset 2 std: {np.std(data2)}\")\n",
        "print(f\"Dataset 2 is more spread out\")"
      ],
      "metadata": {
        "colab": {
          "base_uri": "https://localhost:8080/"
        },
        "id": "TOK2p_1YVPoX",
        "outputId": "5254f84c-6319-4d4a-a4ca-fe0bf85533ca"
      },
      "execution_count": 16,
      "outputs": [
        {
          "output_type": "stream",
          "name": "stdout",
          "text": [
            "Dataset 1 std: 1.114388766331176\n",
            "Dataset 2 std: 2.0271796848753785\n",
            "Dataset 2 is more spread out\n"
          ]
        }
      ]
    },
    {
      "cell_type": "markdown",
      "source": [
        "20. Write a Python program to visualize covariance using a heatmap."
      ],
      "metadata": {
        "id": "V6Jt5QjDVTh6"
      }
    },
    {
      "cell_type": "code",
      "source": [
        "import seaborn as sns\n",
        "import pandas as pd\n",
        "import numpy as np\n",
        "\n",
        "data = pd.DataFrame(np.random.randn(100, 5), columns=list('ABCDE'))\n",
        "cov_matrix = data.cov()\n",
        "sns.heatmap(cov_matrix, annot=True)\n",
        "plt.show()"
      ],
      "metadata": {
        "colab": {
          "base_uri": "https://localhost:8080/",
          "height": 430
        },
        "id": "XhLrWDpsVYoZ",
        "outputId": "a59abd52-6104-46ea-e769-73abed8ebba2"
      },
      "execution_count": 17,
      "outputs": [
        {
          "output_type": "display_data",
          "data": {
            "text/plain": [
              "<Figure size 640x480 with 2 Axes>"
            ],
            "image/png": "[encoded data removed]"
          },
          "metadata": {}
        }
      ]
    },
    {
      "cell_type": "markdown",
      "source": [
        "21. Use seaborn to create a correlation matrix for a dataset."
      ],
      "metadata": {
        "id": "jzT78NcHVdn7"
      }
    },
    {
      "cell_type": "code",
      "source": [
        "import seaborn as sns\n",
        "import pandas as pd\n",
        "import numpy as np\n",
        "\n",
        "data = pd.DataFrame(np.random.randn(100, 5), columns=list('ABCDE'))\n",
        "corr_matrix = data.corr()\n",
        "sns.heatmap(corr_matrix, annot=True)\n",
        "plt.show()"
      ],
      "metadata": {
        "colab": {
          "base_uri": "https://localhost:8080/",
          "height": 435
        },
        "id": "j9FptQ09VqUu",
        "outputId": "a65af083-0630-4b31-cbd3-094d56c66461"
      },
      "execution_count": 18,
      "outputs": [
        {
          "output_type": "display_data",
          "data": {
            "text/plain": [
              "<Figure size 640x480 with 2 Axes>"
            ],
            "image/png": "[encoded data removed]"
          },
          "metadata": {}
        }
      ]
    },
    {
      "cell_type": "markdown",
      "source": [
        "22. Generate a dataset and implement both variance and standard deviation computations."
      ],
      "metadata": {
        "id": "g1B8SXY1V7kl"
      }
    },
    {
      "cell_type": "code",
      "source": [
        "import numpy as np\n",
        "\n",
        "data = np.random.normal(0, 1, 100)\n",
        "variance = np.var(data)\n",
        "std_dev = np.std(data)\n",
        "\n",
        "print(f\"Variance: {variance}\")\n",
        "print(f\"Standard Deviation: {std_dev}\")"
      ],
      "metadata": {
        "colab": {
          "base_uri": "https://localhost:8080/"
        },
        "id": "ly9VUfIYWCUh",
        "outputId": "c9b8110b-4286-453f-fd0b-83a9bb62b4fd"
      },
      "execution_count": 19,
      "outputs": [
        {
          "output_type": "stream",
          "name": "stdout",
          "text": [
            "Variance: 1.0988094573278802\n",
            "Standard Deviation: 1.0482411255660027\n"
          ]
        }
      ]
    },
    {
      "cell_type": "markdown",
      "source": [
        "23. Visualize skewness and kurtosis using Python libraries like matplotlib or seaborn."
      ],
      "metadata": {
        "id": "GWO_M1_jWHVN"
      }
    },
    {
      "cell_type": "code",
      "source": [
        "import seaborn as sns\n",
        "import numpy as np\n",
        "from scipy.stats import skew, kurtosis\n",
        "\n",
        "data = np.random.gamma(3, 2, 1000)\n",
        "sns.distplot(data)\n",
        "print(f\"Skewness: {skew(data)}, Kurtosis: {kurtosis(data)}\")\n",
        "plt.show()"
      ],
      "metadata": {
        "colab": {
          "base_uri": "https://localhost:8080/",
          "height": 638
        },
        "id": "8Hbu2KX2WL3F",
        "outputId": "c57a15a0-f809-4814-918e-ccedd6ca686d"
      },
      "execution_count": 20,
      "outputs": [
        {
          "output_type": "stream",
          "name": "stderr",
          "text": [
            "<ipython-input-20-dedd0df28c1d>:6: UserWarning: \n",
            "\n",
            "`distplot` is a deprecated function and will be removed in seaborn v0.14.0.\n",
            "\n",
            "Please adapt your code to use either `displot` (a figure-level function with\n",
            "similar flexibility) or `histplot` (an axes-level function for histograms).\n",
            "\n",
            "For a guide to updating your code to use the new functions, please see\n",
            "https://gist.github.com/mwaskom/de44147ed2974457ad6372750bbe5751\n",
            "\n",
            "  sns.distplot(data)\n"
          ]
        },
        {
          "output_type": "stream",
          "name": "stdout",
          "text": [
            "Skewness: 1.218297584900857, Kurtosis: 2.0942842199126774\n"
          ]
        },
        {
          "output_type": "display_data",
          "data": {
            "text/plain": [
              "<Figure size 640x480 with 1 Axes>"
            ],
            "image/png": "[encoded data removed]"
          },
          "metadata": {}
        }
      ]
    },
    {
      "cell_type": "markdown",
      "source": [
        "24. Implement the Pearson and Spearman correlation coefficients for a dataset."
      ],
      "metadata": {
        "id": "xfdGTh7sWRom"
      }
    },
    {
      "cell_type": "code",
      "source": [
        "from scipy.stats import pearsonr, spearmanr\n",
        "\n",
        "x = [1, 2, 3, 4, 5]\n",
        "y = [2, 3, 4, 5, 6]\n",
        "\n",
        "pearson = pearsonr(x, y)\n",
        "spearman = spearmanr(x, y)\n",
        "\n",
        "print(f\"Pearson: {pearson[0]}\")\n",
        "print(f\"Spearman: {spearman[0]}\")"
      ],
      "metadata": {
        "colab": {
          "base_uri": "https://localhost:8080/"
        },
        "id": "tUxIGl_FWXqh",
        "outputId": "41ed8a0c-9e33-40bd-fc01-a1c0222c4b81"
      },
      "execution_count": 21,
      "outputs": [
        {
          "output_type": "stream",
          "name": "stdout",
          "text": [
            "Pearson: 1.0\n",
            "Spearman: 0.9999999999999999\n"
          ]
        }
      ]
    }
  ]
}